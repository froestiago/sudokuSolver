{
 "cells": [
  {
   "cell_type": "code",
   "execution_count": 7,
   "metadata": {},
   "outputs": [],
   "source": [
    "#here you enter de grid/puzzle\n",
    "board = [\n",
    "    [7,8,0,4,0,0,1,2,0],\n",
    "    [6,0,0,0,7,5,0,0,9],\n",
    "    [0,0,0,6,0,1,0,7,8],\n",
    "    [0,0,7,0,4,0,2,6,0],\n",
    "    [0,0,1,0,5,0,9,3,0],\n",
    "    [9,0,4,0,6,0,0,0,5],\n",
    "    [0,7,0,3,0,0,0,1,2],\n",
    "    [1,2,0,0,0,7,4,0,0],\n",
    "    [0,4,9,2,0,6,0,0,7]\n",
    "]"
   ]
  },
  {
   "cell_type": "code",
   "execution_count": 8,
   "metadata": {},
   "outputs": [
    {
     "output_type": "stream",
     "name": "stdout",
     "text": [
      "7 8 0  | 4 0 0  | 1 2 0\n6 0 0  | 0 7 5  | 0 0 9\n0 0 0  | 6 0 1  | 0 7 8\n- - - - - - - - - - - - - \n0 0 7  | 0 4 0  | 2 6 0\n0 0 1  | 0 5 0  | 9 3 0\n9 0 4  | 0 6 0  | 0 0 5\n- - - - - - - - - - - - - \n0 7 0  | 3 0 0  | 0 1 2\n1 2 0  | 0 0 7  | 4 0 0\n0 4 9  | 2 0 6  | 0 0 7\n"
     ]
    }
   ],
   "source": [
    "#this function prints the grid/puzzle in a presentable way\n",
    "def print_board(bo):\n",
    "\n",
    "\tfor i in range(len(bo)):\n",
    "\t\tif i % 3  == 0 and i != 0:\n",
    "\t\t\tprint(\"- - - - - - - - - - - - - \")\n",
    "\n",
    "\t\tfor j in range(len(bo[0])):\n",
    "\t\t\tif j % 3 == 0 and j != 0:\n",
    "\t\t\t\tprint(\" | \", end=\"\")\n",
    "\n",
    "\t\t\tif j == 8:\n",
    "\t\t\t\tprint(bo[i][j])\n",
    "\t\t\telse:\n",
    "\t\t\t\tprint(str(bo[i][j]) + \" \", end=\"\")\n",
    "                \n",
    "print_board(board)"
   ]
  },
  {
   "cell_type": "code",
   "execution_count": 9,
   "metadata": {},
   "outputs": [],
   "source": [
    "#this determine if the cell of the grid/puzzle is empty\n",
    "#NOTE: this program consider a empty cell when it has a value of 0(zero) \n",
    "def find_empty(bo):\n",
    "    for i in range(len(bo)):\n",
    "        for j in range(len(bo[0])):\n",
    "            if bo[i][j] == 0:\n",
    "                return (i, j)  # row, col\n",
    "\n",
    "    return None"
   ]
  },
  {
   "cell_type": "code",
   "execution_count": 10,
   "metadata": {},
   "outputs": [],
   "source": [
    "#the most important function in the program\n",
    "#it checks if the value entered in cell is valid\n",
    "def valid(bo, num, pos):\n",
    "\t#check row\n",
    "\tfor i in range(len(bo[0])):\n",
    "\t\tif bo[pos[0]][i] == num and pos[1]!=i: #pos[0] is used to fix the column\n",
    "\t\t\treturn False\n",
    "\n",
    "\t#check column\n",
    "\tfor i in range(len(bo[0])):\n",
    "\t\tif bo[i][pos[1]] == num and pos[0]!=i: #pos[1] is used to fix the row\n",
    "\t\t\treturn False\n",
    "\n",
    "\t#check square\n",
    "\tsquare_x = pos[1]//3 #these two lines determine which of the 3x3\n",
    "\tsquare_y = pos[0]//3 #squares is the entered position \n",
    "\n",
    "\tfor i in range(square_y*3, square_y*3+3): #square_y*3 = pos[1], the +3 is to set the limit of the 3x3\n",
    "\t\tfor j in range(square_x*3, square_x*3+3):#square_x*3 = pos[0], the +3 is to set the limit of the 3x3\n",
    "\t\t\tif bo[i][j]==num and (i,j)!=pos:\n",
    "\t\t\t\treturn False\n",
    "\n",
    "\treturn True"
   ]
  },
  {
   "cell_type": "code",
   "execution_count": 11,
   "metadata": {},
   "outputs": [],
   "source": [
    "#this is where everything is put together\n",
    "def solve(bo):\n",
    "\t\n",
    "\tfind = find_empty(bo)\n",
    "\tif not find:\n",
    "\t\treturn True\n",
    "\telse:\n",
    "\t\trow, col = find\n",
    "\n",
    "\tfor i in range(1,10):\n",
    "\t\tif valid(bo, i, (row, col)):\n",
    "\t\t\tbo[row][col]=i\n",
    "\n",
    "\t\t\tif solve(bo):\t#backtracking\n",
    "\t\t\t\treturn True\n",
    "\n",
    "\t\t\tbo[row][col] = 0 \t#when the given number, i, is not suited for the cell\n",
    "                                    #the cell receive 0(zero) again and the algo \"gives one step back\"\n",
    "\n",
    "\treturn False"
   ]
  },
  {
   "cell_type": "code",
   "execution_count": 12,
   "metadata": {},
   "outputs": [
    {
     "output_type": "stream",
     "name": "stdout",
     "text": [
      "7 8 0  | 4 0 0  | 1 2 0\n6 0 0  | 0 7 5  | 0 0 9\n0 0 0  | 6 0 1  | 0 7 8\n- - - - - - - - - - - - - \n0 0 7  | 0 4 0  | 2 6 0\n0 0 1  | 0 5 0  | 9 3 0\n9 0 4  | 0 6 0  | 0 0 5\n- - - - - - - - - - - - - \n0 7 0  | 3 0 0  | 0 1 2\n1 2 0  | 0 0 7  | 4 0 0\n0 4 9  | 2 0 6  | 0 0 7\n\n# # # # # # # # # # # # # # # #\n\n7 8 5  | 4 3 9  | 1 2 6\n6 1 2  | 8 7 5  | 3 4 9\n4 9 3  | 6 2 1  | 5 7 8\n- - - - - - - - - - - - - \n8 5 7  | 9 4 3  | 2 6 1\n2 6 1  | 7 5 8  | 9 3 4\n9 3 4  | 1 6 2  | 7 8 5\n- - - - - - - - - - - - - \n5 7 8  | 3 9 4  | 6 1 2\n1 2 6  | 5 8 7  | 4 9 3\n3 4 9  | 2 1 6  | 8 5 7\n"
     ]
    }
   ],
   "source": [
    "#main\n",
    "print_board(board)\n",
    "solve(board)\n",
    "\n",
    "print(\"\\n# # # # # # # # # # # # # # # #\\n\")\n",
    "print_board(board)"
   ]
  },
  {
   "cell_type": "code",
   "execution_count": null,
   "metadata": {},
   "outputs": [],
   "source": []
  }
 ],
 "metadata": {
  "kernelspec": {
   "name": "python376jvsc74a57bd0e195ad74c1f1f25b431fdad758182e5c1b96f087f382f48f0b05b5503f70a0ae",
   "display_name": "Python 3.7.6 64-bit ('base': conda)"
  },
  "language_info": {
   "codemirror_mode": {
    "name": "ipython",
    "version": 3
   },
   "file_extension": ".py",
   "mimetype": "text/x-python",
   "name": "python",
   "nbconvert_exporter": "python",
   "pygments_lexer": "ipython3",
   "version": "3.7.6-final"
  }
 },
 "nbformat": 4,
 "nbformat_minor": 4
}